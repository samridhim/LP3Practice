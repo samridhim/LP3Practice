{
 "cells": [
  {
   "cell_type": "code",
   "execution_count": 1,
   "metadata": {},
   "outputs": [],
   "source": [
    "import pandas as pd"
   ]
  },
  {
   "cell_type": "code",
   "execution_count": 15,
   "metadata": {},
   "outputs": [
    {
     "data": {
      "text/plain": [
       "array([['<21', 'High', 'Male', 'Single', 'No'],\n",
       "       ['<21', 'High', 'Male', 'Married', 'No'],\n",
       "       ['21-35', 'High', 'Male', 'Single', 'Yes'],\n",
       "       ['>35', 'Medium', 'Male', 'Single', 'Yes'],\n",
       "       ['>35', 'Low', 'Female', 'Single', 'Yes'],\n",
       "       ['>35', 'Low', 'Female', 'Married', 'No'],\n",
       "       ['21-35', 'Low', 'Female', 'Married', 'Yes'],\n",
       "       ['<21', 'Medium', 'Male', 'Single', 'No'],\n",
       "       ['<21', 'Low', 'Female', 'Married', 'Yes'],\n",
       "       ['>35', 'Medium', 'Female', 'Single', 'Yes'],\n",
       "       ['<21', 'Medium', 'Female', 'Married', 'Yes'],\n",
       "       ['21-35', 'Medium', 'Male', 'Married', 'Yes'],\n",
       "       ['21-35', 'High', 'Female', 'Single', 'Yes'],\n",
       "       ['>35', 'Medium', 'Male', 'Married', 'No']], dtype=object)"
      ]
     },
     "execution_count": 15,
     "metadata": {},
     "output_type": "execute_result"
    }
   ],
   "source": [
    "df = pd.read_csv('DecisionTree.csv')\n",
    "df = df.drop(\"ID\",axis=1)\n",
    "training_data = df.values\n",
    "header = [\"Age\",\"Income\",\"Gender\",\"Marital Status\",\"Buys\"]\n"
   ]
  },
  {
   "cell_type": "code",
   "execution_count": 9,
   "metadata": {},
   "outputs": [
    {
     "data": {
      "text/plain": [
       "{'No': 5, 'Yes': 9}"
      ]
     },
     "execution_count": 9,
     "metadata": {},
     "output_type": "execute_result"
    }
   ],
   "source": [
    "def unique_val(rows,col):\n",
    "    return set(row[col] for row in rows)\n",
    "\n",
    "def class_counts(rows):\n",
    "    counts = {}\n",
    "    for row in rows:\n",
    "        label = row[-1]\n",
    "        if label not in counts:\n",
    "            counts[label]=0\n",
    "        counts[label]+=1\n",
    "        \n",
    "    return counts"
   ]
  },
  {
   "cell_type": "code",
   "execution_count": 10,
   "metadata": {},
   "outputs": [],
   "source": [
    "class Question:\n",
    "\n",
    "    def __init__(self,column,value):\n",
    "        self.column = column\n",
    "        self.value = value\n",
    "          \n",
    "    def match(self,example):\n",
    "        value = example[self.column]\n",
    "        return value == self.value\n",
    "    def __repr__(self):\n",
    "        return (\"Is %s == %s ?\"%(header[self.column],self.value))\n",
    "  \n"
   ]
  },
  {
   "cell_type": "code",
   "execution_count": 19,
   "metadata": {},
   "outputs": [
    {
     "data": {
      "text/plain": [
       "([array(['>35', 'Medium', 'Male', 'Single', 'Yes'], dtype=object),\n",
       "  array(['<21', 'Medium', 'Male', 'Single', 'No'], dtype=object),\n",
       "  array(['>35', 'Medium', 'Female', 'Single', 'Yes'], dtype=object),\n",
       "  array(['<21', 'Medium', 'Female', 'Married', 'Yes'], dtype=object),\n",
       "  array(['21-35', 'Medium', 'Male', 'Married', 'Yes'], dtype=object),\n",
       "  array(['>35', 'Medium', 'Male', 'Married', 'No'], dtype=object)],\n",
       " [array(['<21', 'High', 'Male', 'Single', 'No'], dtype=object),\n",
       "  array(['<21', 'High', 'Male', 'Married', 'No'], dtype=object),\n",
       "  array(['21-35', 'High', 'Male', 'Single', 'Yes'], dtype=object),\n",
       "  array(['>35', 'Low', 'Female', 'Single', 'Yes'], dtype=object),\n",
       "  array(['>35', 'Low', 'Female', 'Married', 'No'], dtype=object),\n",
       "  array(['21-35', 'Low', 'Female', 'Married', 'Yes'], dtype=object),\n",
       "  array(['<21', 'Low', 'Female', 'Married', 'Yes'], dtype=object),\n",
       "  array(['21-35', 'High', 'Female', 'Single', 'Yes'], dtype=object)])"
      ]
     },
     "execution_count": 19,
     "metadata": {},
     "output_type": "execute_result"
    }
   ],
   "source": [
    "def partition(question,rows):\n",
    "    true_rows,false_rows = [],[]\n",
    "    for row in rows:\n",
    "        if question.match(row):\n",
    "            true_rows.append(row)\n",
    "        else:\n",
    "            false_rows.append(row)\n",
    "            \n",
    "    return true_rows,false_rows       "
   ]
  },
  {
   "cell_type": "code",
   "execution_count": 26,
   "metadata": {},
   "outputs": [
    {
     "data": {
      "text/plain": [
       "0.000850340136054395"
      ]
     },
     "execution_count": 26,
     "metadata": {},
     "output_type": "execute_result"
    }
   ],
   "source": [
    "def gini(rows):\n",
    "    impurity = 1\n",
    "    counts = class_counts(rows)\n",
    "    for label in counts:\n",
    "        pr = counts[label]/float(len(rows))\n",
    "        impurity -= pr**2\n",
    "        \n",
    "    return impurity\n",
    "\n",
    "def info_gain(left,right,curr_uncertainty):\n",
    "    p = float(len(left))/(len(left)+len(right))\n",
    "    return curr_uncertainty - p*gini(left) - (1-p)*gini(right)\n"
   ]
  },
  {
   "cell_type": "code",
   "execution_count": 27,
   "metadata": {},
   "outputs": [],
   "source": [
    "class Leaf:\n",
    "      def __init__(self,rows):\n",
    "            self.predictions = class_counts(rows)\n",
    "            \n",
    "class Decision_Node:\n",
    "    def __init__(self,question,true_branch,false_branch):\n",
    "        self.question = question\n",
    "        self.true_branch = true_branch\n",
    "        self.false_branch = false_branch\n",
    "        "
   ]
  },
  {
   "cell_type": "code",
   "execution_count": 56,
   "metadata": {},
   "outputs": [],
   "source": [
    "def find_best_split(rows):\n",
    "    best_gain=0\n",
    "    best_question = None\n",
    "    n_features = len(rows[0])-1\n",
    "    curr_uncertainty = gini(rows)\n",
    "    for i in range(n_features):\n",
    "        values = set([row[i] for row in rows])\n",
    "        for val in values:\n",
    "            question = Question(i,val)\n",
    "            true_rows,false_rows = partition(question,rows)\n",
    "            if len(true_rows)==0 or len(false_rows)==0:\n",
    "                continue\n",
    "            infogain = info_gain(true_rows,false_rows,curr_uncertainty)\n",
    "            if infogain >= best_gain:\n",
    "                best_gain = infogain\n",
    "                best_question = question\n",
    "               \n",
    "    return best_gain,best_question\n",
    "    \n",
    "    \n",
    "    \n",
    "    return best_gain,best_question"
   ]
  },
  {
   "cell_type": "code",
   "execution_count": 57,
   "metadata": {},
   "outputs": [
    {
     "data": {
      "text/plain": [
       "(0.10204081632653056, Is Age == 21-35 ?)"
      ]
     },
     "execution_count": 57,
     "metadata": {},
     "output_type": "execute_result"
    }
   ],
   "source": [
    "find_best_split(training_data)"
   ]
  },
  {
   "cell_type": "code",
   "execution_count": 58,
   "metadata": {},
   "outputs": [],
   "source": [
    "def build_tree(rows):\n",
    "    gain,question = find_best_split(rows)\n",
    "    \n",
    "    if gain==0:\n",
    "        return Leaf(rows)\n",
    "    true_rows,false_rows = partition(question,rows)\n",
    "    true_branch = build_tree(true_rows)\n",
    "    false_branch = build_tree(false_rows)\n",
    "    \n",
    "    return Decision_Node(question,true_branch,false_branch)\n",
    "    "
   ]
  },
  {
   "cell_type": "code",
   "execution_count": null,
   "metadata": {},
   "outputs": [],
   "source": []
  },
  {
   "cell_type": "code",
   "execution_count": 59,
   "metadata": {},
   "outputs": [],
   "source": [
    "def print_tree(node):\n",
    "    if isinstance(node,Leaf):\n",
    "        print(node.predictions)\n",
    "        return\n",
    "    \n",
    "    print(\"Split occurs at: \"+ str(node.question))\n",
    "    \n",
    "    print(\"--->True\")\n",
    "    print_tree(node.true_branch)\n",
    "    \n",
    "    print(\"--->False\")\n",
    "    print_tree(node.false_branch)\n",
    "    \n",
    "    "
   ]
  },
  {
   "cell_type": "code",
   "execution_count": null,
   "metadata": {},
   "outputs": [],
   "source": []
  },
  {
   "cell_type": "code",
   "execution_count": 60,
   "metadata": {},
   "outputs": [],
   "source": [
    "def classify(Node,row):\n",
    "    if isinstance(Node,Leaf):\n",
    "        return Node.predictions\n",
    "    if Node.question.match(row):\n",
    "        return classify(Node.true_branch,row)\n",
    "    else:\n",
    "        return classify(Node.false_branch,row)"
   ]
  },
  {
   "cell_type": "code",
   "execution_count": 61,
   "metadata": {},
   "outputs": [
    {
     "name": "stdout",
     "output_type": "stream",
     "text": [
      "Split occurs at: Is Age == 21-35 ?\n",
      "--->True\n",
      "{'Yes': 4}\n",
      "--->False\n",
      "Split occurs at: Is Gender == Male ?\n",
      "--->True\n",
      "Split occurs at: Is Age == >35 ?\n",
      "--->True\n",
      "Split occurs at: Is Marital Status == Single ?\n",
      "--->True\n",
      "{'Yes': 1}\n",
      "--->False\n",
      "{'No': 1}\n",
      "--->False\n",
      "{'No': 3}\n",
      "--->False\n",
      "Split occurs at: Is Marital Status == Single ?\n",
      "--->True\n",
      "{'Yes': 2}\n",
      "--->False\n",
      "Split occurs at: Is Age == >35 ?\n",
      "--->True\n",
      "{'No': 1}\n",
      "--->False\n",
      "{'Yes': 2}\n"
     ]
    },
    {
     "data": {
      "text/plain": [
       "{'Yes': 2}"
      ]
     },
     "execution_count": 61,
     "metadata": {},
     "output_type": "execute_result"
    }
   ],
   "source": [
    "Node = build_tree(training_data)\n",
    "print_tree(Node)\n",
    "row = ['<21','Low','Female','Married']\n",
    "classify(Node,row)"
   ]
  },
  {
   "cell_type": "code",
   "execution_count": null,
   "metadata": {},
   "outputs": [],
   "source": []
  }
 ],
 "metadata": {
  "kernelspec": {
   "display_name": "Python 2",
   "language": "python",
   "name": "python2"
  },
  "language_info": {
   "codemirror_mode": {
    "name": "ipython",
    "version": 2
   },
   "file_extension": ".py",
   "mimetype": "text/x-python",
   "name": "python",
   "nbconvert_exporter": "python",
   "pygments_lexer": "ipython2",
   "version": "2.7.14"
  }
 },
 "nbformat": 4,
 "nbformat_minor": 2
}
