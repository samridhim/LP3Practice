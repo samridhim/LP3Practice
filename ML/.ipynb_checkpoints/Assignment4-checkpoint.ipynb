{
 "cells": [
  {
   "cell_type": "code",
   "execution_count": 24,
   "metadata": {
    "colab": {},
    "colab_type": "code",
    "id": "7HVzbVbPSyaz"
   },
   "outputs": [],
   "source": [
    "import numpy as np\n",
    "import matplotlib.pyplot as plt\n",
    "import pandas as pd\n",
    "from copy import deepcopy"
   ]
  },
  {
   "cell_type": "code",
   "execution_count": 25,
   "metadata": {
    "colab": {},
    "colab_type": "code",
    "id": "psclX4wXSybJ"
   },
   "outputs": [],
   "source": [
    "data = np.array([[0.1, 0.6], [0.15, 0.71], [0.08, 0.9], [0.16, 0.85], [0.2, 0.3], [0.25, 0.5], [0.24, 0.1], [0.3, 0.2]])"
   ]
  },
  {
   "cell_type": "code",
   "execution_count": 26,
   "metadata": {
    "colab": {},
    "colab_type": "code",
    "id": "FyuuAzcGSybU",
    "outputId": "042195eb-7845-4b06-a08c-0bed8cb3ef56"
   },
   "outputs": [
    {
     "name": "stdout",
     "output_type": "stream",
     "text": [
      "original\n"
     ]
    },
    {
     "data": {
      "image/png": "[encoded data removed]",
      "text/plain": [
       "<matplotlib.figure.Figure at 0x7fbab16076d0>"
      ]
     },
     "metadata": {},
     "output_type": "display_data"
    }
   ],
   "source": [
    "c1 = [0.1, 0.6]\n",
    "c2 = [0.3, 0.2]\n",
    "centers = np.array([c1, c2])\n",
    "plt.scatter(data[:,0], data[:,1])\n",
    "plt.scatter(c1[0], c1[1], marker='x', c='r')\n",
    "plt.scatter(c2[0], c2[1], marker = 'x', c = 'g')\n",
    "print \"original\""
   ]
  },
  {
   "cell_type": "code",
   "execution_count": 27,
   "metadata": {
    "colab": {},
    "colab_type": "code",
    "id": "ry9UFkRXSybp"
   },
   "outputs": [],
   "source": [
    "from sklearn.cluster import KMeans\n",
    "kmeans = KMeans(n_clusters=2, random_state=0, init=centers).fit(data)"
   ]
  },
  {
   "cell_type": "code",
   "execution_count": 28,
   "metadata": {
    "colab": {},
    "colab_type": "code",
    "id": "76GJqq_lSyb0",
    "outputId": "32d19701-308e-4e7c-e125-f47bcfb7700c"
   },
   "outputs": [
    {
     "name": "stdout",
     "output_type": "stream",
     "text": [
      "[[0.148      0.712     ]\n",
      " [0.24666667 0.2       ]]\n"
     ]
    },
    {
     "data": {
      "text/plain": [
       "array([0, 0, 0, 0, 1, 0, 1, 1], dtype=int32)"
      ]
     },
     "execution_count": 28,
     "metadata": {},
     "output_type": "execute_result"
    }
   ],
   "source": [
    "print kmeans.cluster_centers_\n",
    "kmeans.labels_"
   ]
  },
  {
   "cell_type": "code",
   "execution_count": 29,
   "metadata": {
    "colab": {},
    "colab_type": "code",
    "id": "ajFXhrbESyb-"
   },
   "outputs": [],
   "source": [
    "colors = {1 : \"r\", 0 : \"g\"}"
   ]
  },
  {
   "cell_type": "code",
   "execution_count": 30,
   "metadata": {
    "colab": {},
    "colab_type": "code",
    "id": "jwWKyAVdSycI"
   },
   "outputs": [],
   "source": [
    "centers_new = deepcopy(centers)\n",
    "centers_old = np.zeros(centers.shape)\n",
    "distances = np.zeros((len(data), 2))\n",
    "clusters = np.zeros(len(data))"
   ]
  },
  {
   "cell_type": "code",
   "execution_count": 31,
   "metadata": {
    "colab": {},
    "colab_type": "code",
    "id": "fFn2C8L0SycR"
   },
   "outputs": [],
   "source": [
    "error = np.linalg.norm(centers_new - centers_old)"
   ]
  },
  {
   "cell_type": "code",
   "execution_count": 32,
   "metadata": {
    "colab": {},
    "colab_type": "code",
    "id": "sQXobVXkSyce",
    "outputId": "20a114f3-23f1-486a-b403-20cca9f98515"
   },
   "outputs": [
    {
     "name": "stdout",
     "output_type": "stream",
     "text": [
      "0.7071067811865476\n"
     ]
    }
   ],
   "source": [
    "print error"
   ]
  },
  {
   "cell_type": "markdown",
   "metadata": {
    "colab_type": "text",
    "id": "10Gzqfj_Syc8"
   },
   "source": [
    "1. np.linalg.norm() -> calculates the distance by using the root(sum(x-y)^2) formula.\n",
    "2. on axis = 1 means row wise, so example data = [[1,2], [2,3]] and centers =[[1,2],[0,1]] so it will calculate distance row wise for data i.e. [1,2] first then [2,3] with each center point \n",
    "3. np.mean(data[clusters==i]) returns all data with clusters assigned as 0 / 1 and returns mean accordingly. Axis = 0  means that the mean is calculated column wise so if data = [[1,2],[2,3]] then mean = [(1 + 2)/2, (2 + 3)/2] \n",
    "4. np.argmin returns the index of the minimum element. For us index = cluster only. If lowest index is 0 that means cluster is also 0 and if lowest index =1 cluster = 1"
   ]
  },
  {
   "cell_type": "code",
   "execution_count": 33,
   "metadata": {
    "colab": {},
    "colab_type": "code",
    "id": "QX_F_VnSSydE",
    "outputId": "b2993eed-5772-454f-c0e7-ea8b32dc3f2f"
   },
   "outputs": [
    {
     "name": "stdout",
     "output_type": "stream",
     "text": [
      "[[0.148      0.712     ]\n",
      " [0.24666667 0.2       ]]\n"
     ]
    }
   ],
   "source": [
    "while error!=0:\n",
    "    for i in range(2):\n",
    "        distances[:,i] = np.linalg.norm(data - centers_new[i], axis = 1)\n",
    "    clusters = np.argmin(distances, axis = 1)\n",
    "    centers_old = deepcopy(centers_new)\n",
    "    for i in range(2):\n",
    "        centers_new[i] = np.mean(data[clusters==i], axis = 0)\n",
    "    error = np.linalg.norm(centers_new - centers_old)\n",
    "print centers_new"
   ]
  },
  {
   "cell_type": "code",
   "execution_count": 34,
   "metadata": {
    "colab": {},
    "colab_type": "code",
    "id": "dVT-bHSgSydU",
    "outputId": "a38ef59f-f5c8-4585-84d8-53217d392d68"
   },
   "outputs": [
    {
     "data": {
      "image/png": "[encoded data removed]",
      "text/plain": [
       "<matplotlib.figure.Figure at 0x7fbac7c1ec10>"
      ]
     },
     "metadata": {},
     "output_type": "display_data"
    }
   ],
   "source": [
    "for i in range(len(data)):\n",
    "    plt.scatter(data[i][0], data[i][1], c=colors[clusters[i]])\n",
    "    \n",
    "for i in range(2):\n",
    "    plt.scatter(centers_new[i][0], centers_new[i][1], c=colors[i], marker = 'x')\n"
   ]
  },
  {
   "cell_type": "code",
   "execution_count": 35,
   "metadata": {
    "colab": {},
    "colab_type": "code",
    "id": "xTbAAv-RSydq",
    "outputId": "6c1bcfbe-3e81-4f21-9388-49974ec368b3"
   },
   "outputs": [
    {
     "name": "stdout",
     "output_type": "stream",
     "text": [
      "[0 0 0 0 1 0 1 1]\n"
     ]
    }
   ],
   "source": [
    "print clusters"
   ]
  },
  {
   "cell_type": "code",
   "execution_count": 36,
   "metadata": {
    "colab": {},
    "colab_type": "code",
    "id": "6U__zvNLSyd9"
   },
   "outputs": [
    {
     "name": "stdout",
     "output_type": "stream",
     "text": [
      "[[0.1 0.6]\n",
      " [0.3 0.2]]\n",
      "[[0.1 0.6]\n",
      " [0.3 0.2]]\n",
      "[[0. 0.]\n",
      " [0. 0.]]\n"
     ]
    }
   ],
   "source": [
    "print centers\n",
    "centers_new = deepcopy(centers)\n",
    "print centers_new\n",
    "centers_old = np.zeros(centers.shape)\n",
    "print centers_old\n",
    "error =  np.linalg.norm(centers_new - centers_old)"
   ]
  },
  {
   "cell_type": "code",
   "execution_count": 37,
   "metadata": {},
   "outputs": [
    {
     "name": "stdout",
     "output_type": "stream",
     "text": [
      "0.7071067811865476\n"
     ]
    }
   ],
   "source": [
    "print error"
   ]
  },
  {
   "cell_type": "code",
   "execution_count": 38,
   "metadata": {},
   "outputs": [],
   "source": [
    "while error!=0:\n",
    "    for i in range(2):\n",
    "        distances[:,i] = np.linalg.norm(data - centers[i], axis = 1)\n",
    "    clusters = np.argmin(distances, axis = 1)\n",
    "    centers_old = centers_new\n",
    "    for i in range(2):\n",
    "        centers_new[i] = np.mean(data[clusters==i], axis =0)\n",
    "    error = np.linalg.norm(centers_old - centers_new)"
   ]
  },
  {
   "cell_type": "code",
   "execution_count": 39,
   "metadata": {},
   "outputs": [
    {
     "name": "stdout",
     "output_type": "stream",
     "text": [
      "0.0\n"
     ]
    }
   ],
   "source": [
    "print error"
   ]
  },
  {
   "cell_type": "code",
   "execution_count": 40,
   "metadata": {},
   "outputs": [
    {
     "name": "stdout",
     "output_type": "stream",
     "text": [
      "[[0.148      0.712     ]\n",
      " [0.24666667 0.2       ]]\n"
     ]
    }
   ],
   "source": [
    "print centers_new"
   ]
  },
  {
   "cell_type": "code",
   "execution_count": null,
   "metadata": {},
   "outputs": [],
   "source": []
  },
  {
   "cell_type": "code",
   "execution_count": 64,
   "metadata": {},
   "outputs": [],
   "source": [
    "centers_new = deepcopy(centers)"
   ]
  },
  {
   "cell_type": "code",
   "execution_count": 65,
   "metadata": {},
   "outputs": [],
   "source": [
    "centers_old = np.zeros(centers.shape)"
   ]
  },
  {
   "cell_type": "code",
   "execution_count": 66,
   "metadata": {},
   "outputs": [],
   "source": [
    "clusters = np.zeros(len(data))"
   ]
  },
  {
   "cell_type": "code",
   "execution_count": 67,
   "metadata": {},
   "outputs": [],
   "source": [
    "distances = np.zeros((len(data), 2))"
   ]
  },
  {
   "cell_type": "code",
   "execution_count": 68,
   "metadata": {},
   "outputs": [],
   "source": [
    "error = np.linalg.norm(centers_new - centers_old)"
   ]
  },
  {
   "cell_type": "code",
   "execution_count": 69,
   "metadata": {},
   "outputs": [
    {
     "name": "stdout",
     "output_type": "stream",
     "text": [
      "0.7071067811865476\n"
     ]
    }
   ],
   "source": [
    "print error"
   ]
  },
  {
   "cell_type": "code",
   "execution_count": 70,
   "metadata": {},
   "outputs": [
    {
     "name": "stdout",
     "output_type": "stream",
     "text": [
      "0.7071067811865476\n",
      "0.1330129484089592\n"
     ]
    }
   ],
   "source": [
    "while error!=0:\n",
    "    for i in range(2):\n",
    "        distances[:,i] = np.linalg.norm(data - centers_new[i], axis = 1)\n",
    "    clusters = np.argmin(distances, axis =1)\n",
    "    centers_old = deepcopy(centers_new)\n",
    "    for i in range(2):\n",
    "        centers_new[i] = np.mean(data[clusters==i], axis =0)\n",
    "    error = np.linalg.norm(centers_new - centers_old)"
   ]
  },
  {
   "cell_type": "code",
   "execution_count": null,
   "metadata": {},
   "outputs": [],
   "source": []
  }
 ],
 "metadata": {
  "colab": {
   "name": "Assignment4.ipynb",
   "provenance": [],
   "version": "0.3.2"
  },
  "kernelspec": {
   "display_name": "Python 2",
   "language": "python",
   "name": "python2"
  },
  "language_info": {
   "codemirror_mode": {
    "name": "ipython",
    "version": 2
   },
   "file_extension": ".py",
   "mimetype": "text/x-python",
   "name": "python",
   "nbconvert_exporter": "python",
   "pygments_lexer": "ipython2",
   "version": "2.7.14"
  }
 },
 "nbformat": 4,
 "nbformat_minor": 1
}
