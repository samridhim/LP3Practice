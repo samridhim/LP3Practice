{
 "cells": [
  {
   "cell_type": "code",
   "execution_count": 26,
   "metadata": {},
   "outputs": [],
   "source": [
    "import pandas as pd\n",
    "import numpy as np\n",
    "from copy import deepcopy\n",
    "import matplotlib.pyplot as plt"
   ]
  },
  {
   "cell_type": "code",
   "execution_count": 27,
   "metadata": {},
   "outputs": [],
   "source": [
    "k = 3\n",
    "test_points= np.array([[6,6], [5,3]])\n",
    "data = np.asarray([[2,4],[4,2], [4,6], [6,4], [4,4], [6,2]])\n",
    "classes = np.asarray([0,0,0,0,1,1])"
   ]
  },
  {
   "cell_type": "code",
   "execution_count": 28,
   "metadata": {},
   "outputs": [
    {
     "name": "stdout",
     "output_type": "stream",
     "text": [
      "[[2 4]\n",
      " [4 2]\n",
      " [4 6]\n",
      " [6 4]\n",
      " [4 4]\n",
      " [6 2]]\n"
     ]
    }
   ],
   "source": [
    "train = np.array(zip(data[:,0], data[:,1]))\n",
    "print train"
   ]
  },
  {
   "cell_type": "code",
   "execution_count": 29,
   "metadata": {},
   "outputs": [],
   "source": [
    "distances = np.zeros(len(train))\n",
    "test_classes_normal = []"
   ]
  },
  {
   "cell_type": "code",
   "execution_count": 30,
   "metadata": {},
   "outputs": [
    {
     "name": "stdout",
     "output_type": "stream",
     "text": [
      "[4.47213595 4.47213595 2.         2.         2.82842712 4.        ]\n",
      "[3.16227766 1.41421356 3.16227766 1.41421356 1.41421356 1.41421356]\n"
     ]
    },
    {
     "data": {
      "text/plain": [
       "[0, 0]"
      ]
     },
     "execution_count": 30,
     "metadata": {},
     "output_type": "execute_result"
    }
   ],
   "source": [
    "for i in range(len(test_points)):\n",
    "    distances = np.linalg.norm(train - test_points[i], axis = 1)\n",
    "    print distances\n",
    "    sorted_classes = np.argsort(distances)\n",
    "    distances = sorted(distances)\n",
    "    final_dists =  distances[:-3]\n",
    "    final_classes = sorted_classes[:-3]\n",
    "    count_0 = 0\n",
    "    count_1 =0\n",
    "    for k in final_classes:\n",
    "        if(classes[k]==1):\n",
    "            count_1 = count_1 +1\n",
    "        else:\n",
    "            count_0 = count_0 +1\n",
    "    if(count_1>count_0):\n",
    "        final_class_test = 1\n",
    "    else:\n",
    "        final_class_test = 0\n",
    "    test_classes_normal.append(final_class_test)\n",
    "\n",
    "test_classes_normal"
   ]
  },
  {
   "cell_type": "code",
   "execution_count": 31,
   "metadata": {},
   "outputs": [
    {
     "data": {
      "image/png": "[encoded data removed]",
      "text/plain": [
       "<matplotlib.figure.Figure at 0x7fb8e46a1390>"
      ]
     },
     "metadata": {},
     "output_type": "display_data"
    }
   ],
   "source": [
    "colors = {1 : \"g\", 0 : \"r\"}\n",
    "for i in range(len(data)):\n",
    "    plt.scatter(data[i][0], data[i][1], c = colors[classes[i]])\n",
    "for i in range(len(test_points)):\n",
    "    plt.scatter(test_points[i][0], test_points[i][1], marker = 'x', c=colors[test_classes_normal[i]])"
   ]
  },
  {
   "cell_type": "code",
   "execution_count": null,
   "metadata": {},
   "outputs": [],
   "source": []
  },
  {
   "cell_type": "code",
   "execution_count": null,
   "metadata": {},
   "outputs": [],
   "source": []
  },
  {
   "cell_type": "markdown",
   "metadata": {},
   "source": [
    "Distance Weighted"
   ]
  },
  {
   "cell_type": "code",
   "execution_count": 32,
   "metadata": {},
   "outputs": [],
   "source": [
    "test_classes_weighted = []"
   ]
  },
  {
   "cell_type": "code",
   "execution_count": 33,
   "metadata": {},
   "outputs": [
    {
     "name": "stdout",
     "output_type": "stream",
     "text": [
      "[1.4142135623730951, 1.4142135623730951, 1.4142135623730951, 1.4142135623730951, 3.1622776601683795, 3.1622776601683795]\n",
      "[0 1 5]\n",
      "[0.22360679774997896, 0.22360679774997896, 0.25, 0.35355339059327373, 0.5, 0.5]\n",
      "[0.22360679774997896, 0.22360679774997896, 0.25, 0.35355339059327373, 0.5, 0.5]\n",
      "[0 2 1]\n",
      "[0.31622776601683794, 0.31622776601683794, 0.7071067811865475, 0.7071067811865475, 0.7071067811865475, 0.7071067811865475]\n"
     ]
    }
   ],
   "source": [
    "for i in range(len(test_points)):\n",
    "    distances = 1/np.linalg.norm(train - test_points[i], axis = 1)\n",
    "    print distances\n",
    "    sorted_classes = np.argsort(distances)\n",
    "    distances = sorted(distances)\n",
    "    final_dists =  distances[:3]\n",
    "    final_classes = sorted_classes[:3]\n",
    "    print final_classes\n",
    "    print distances\n",
    "    count_0 = 0\n",
    "    count_1 =0\n",
    "    for k in final_classes:\n",
    "        if(classes[k]==1):\n",
    "            count_1 = count_1 +1\n",
    "        else:\n",
    "            count_0 = count_0 +1\n",
    "    if(count_1>count_0):\n",
    "        final_class_test = 1\n",
    "    else:\n",
    "        final_class_test = 0\n",
    "    test_classes_weighted.append(final_class_test)"
   ]
  },
  {
   "cell_type": "code",
   "execution_count": 25,
   "metadata": {},
   "outputs": [
    {
     "data": {
      "text/plain": [
       "[0, 0]"
      ]
     },
     "execution_count": 25,
     "metadata": {},
     "output_type": "execute_result"
    }
   ],
   "source": [
    "test_classes_weighted"
   ]
  },
  {
   "cell_type": "code",
   "execution_count": null,
   "metadata": {},
   "outputs": [],
   "source": []
  },
  {
   "cell_type": "code",
   "execution_count": null,
   "metadata": {},
   "outputs": [],
   "source": []
  },
  {
   "cell_type": "markdown",
   "metadata": {},
   "source": [
    "Locally averaged"
   ]
  },
  {
   "cell_type": "code",
   "execution_count": 94,
   "metadata": {},
   "outputs": [],
   "source": [
    "test_classes_local = []"
   ]
  },
  {
   "cell_type": "code",
   "execution_count": 95,
   "metadata": {},
   "outputs": [],
   "source": [
    "for i in range(len(test_points)):\n",
    "    distances = np.linalg.norm(train - test_points[i], axis = 1)\n",
    "    distances_1 = np.linalg.norm(train[classes==1] - test_points[i], axis = 1)\n",
    "    distances_0 = np.linalg.norm(train[classes==0] - test_points[i], axis = 1)\n",
    "    if(sum(distances_1) > sum(distances_0)):\n",
    "        final_class_test =1\n",
    "    else:\n",
    "        final_class_test = 0\n",
    "#     sorted_classes = np.argsort(distances)\n",
    "#     distances = sorted(distances)\n",
    "#     final_dists =  distances[:-3]\n",
    "#     final_classes = sorted_classes[:-3]\n",
    "#     print final_classes\n",
    "#     print distances\n",
    "#     count_0 = 0\n",
    "#     count_1 =0\n",
    "#     for k in final_classes:\n",
    "#         if(classes[k]==1):\n",
    "#             count_1 = count_1 +1\n",
    "#         else:\n",
    "#             count_0 = count_0 +1\n",
    "#     if(count_1>count_0):\n",
    "#         final_class_test = 1\n",
    "#     else:\n",
    "#         final_class_test = 0\n",
    "    test_classes_local.append(final_class_test)"
   ]
  },
  {
   "cell_type": "code",
   "execution_count": 96,
   "metadata": {},
   "outputs": [
    {
     "data": {
      "text/plain": [
       "[0, 0]"
      ]
     },
     "execution_count": 96,
     "metadata": {},
     "output_type": "execute_result"
    }
   ],
   "source": [
    "test_classes_local"
   ]
  },
  {
   "cell_type": "code",
   "execution_count": null,
   "metadata": {},
   "outputs": [],
   "source": []
  },
  {
   "cell_type": "code",
   "execution_count": null,
   "metadata": {},
   "outputs": [],
   "source": []
  },
  {
   "cell_type": "code",
   "execution_count": null,
   "metadata": {},
   "outputs": [],
   "source": []
  }
 ],
 "metadata": {
  "kernelspec": {
   "display_name": "Python 2",
   "language": "python",
   "name": "python2"
  },
  "language_info": {
   "codemirror_mode": {
    "name": "ipython",
    "version": 2
   },
   "file_extension": ".py",
   "mimetype": "text/x-python",
   "name": "python",
   "nbconvert_exporter": "python",
   "pygments_lexer": "ipython2",
   "version": "2.7.14"
  }
 },
 "nbformat": 4,
 "nbformat_minor": 2
}
